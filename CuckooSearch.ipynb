{
  "nbformat": 4,
  "nbformat_minor": 0,
  "metadata": {
    "colab": {
      "provenance": [],
      "authorship_tag": "ABX9TyN+tnkZ+3lrYMTodjTCtfll",
      "include_colab_link": true
    },
    "kernelspec": {
      "name": "python3",
      "display_name": "Python 3"
    },
    "language_info": {
      "name": "python"
    }
  },
  "cells": [
    {
      "cell_type": "markdown",
      "metadata": {
        "id": "view-in-github",
        "colab_type": "text"
      },
      "source": [
        "<a href=\"https://colab.research.google.com/github/snehanshastri/BIS/blob/main/CuckooSearch.ipynb\" target=\"_parent\"><img src=\"https://colab.research.google.com/assets/colab-badge.svg\" alt=\"Open In Colab\"/></a>"
      ]
    },
    {
      "cell_type": "code",
      "execution_count": null,
      "metadata": {
        "colab": {
          "base_uri": "https://localhost:8080/"
        },
        "id": "tqUraDb0Sr_K",
        "outputId": "e9f9846d-1e3b-4ed0-8231-22dcf0ebaa5e"
      },
      "outputs": [
        {
          "output_type": "stream",
          "name": "stdout",
          "text": [
            "Best Solution:  [-0.02122667  0.03639467 -0.06056118 -0.02738857 -0.00015126  0.04255517\n",
            " -0.06440598 -0.01718141  0.00703945  0.00599116]\n",
            "Best Fitness (Value of Sphere Function):  0.012532678828215921\n"
          ]
        }
      ],
      "source": [
        "import numpy as np\n",
        "import random\n",
        "from scipy.special import gamma  # Import the gamma function\n",
        "\n",
        "# Sphere Function to optimize\n",
        "def sphere(x):\n",
        "    return np.sum(x**2)\n",
        "\n",
        "# Initialize population\n",
        "def initialize_population(n, dim, bounds):\n",
        "    population = np.random.uniform(bounds[0], bounds[1], (n, dim))\n",
        "    return population\n",
        "\n",
        "# Lévy flight for exploration\n",
        "def levy_flight(Lambda=1.5):\n",
        "    sigma = (gamma(1 + Lambda) * np.sin(np.pi * Lambda / 2) / gamma((1 + Lambda) / 2) * Lambda ** ((Lambda - 1) / 2)) ** (1 / Lambda)  # Use gamma instead of Gamma\n",
        "    u = np.random.normal(0, sigma, size=1)\n",
        "    v = np.random.normal(0, 1, size=1)\n",
        "    step = u / (np.abs(v) ** (1 / Lambda))\n",
        "    return step\n",
        "\n",
        "# Cuckoo Search Algorithm\n",
        "def cuckoo_search(func, n=50, dim=5, max_iter=1000, bounds=(-5.12, 5.12), pa=0.25):\n",
        "    # Initialize nests (population)\n",
        "    nests = initialize_population(n, dim, bounds)\n",
        "\n",
        "    # Evaluate fitness of the population\n",
        "    fitness = np.array([func(nest) for nest in nests])\n",
        "\n",
        "    # Best solution\n",
        "    best_idx = np.argmin(fitness)\n",
        "    best_nest = nests[best_idx]\n",
        "    best_fitness = fitness[best_idx]\n",
        "\n",
        "    # Main loop\n",
        "    for _ in range(max_iter):\n",
        "        # Generate new solutions (cuckoo search)\n",
        "        new_nests = np.copy(nests)\n",
        "\n",
        "        for i in range(n):\n",
        "            # Lévy flight for generating new solutions\n",
        "            step = levy_flight()\n",
        "            new_nests[i] = nests[i] + step * (nests[i] - best_nest)  # Move towards the best nest\n",
        "\n",
        "            # Boundary control\n",
        "            new_nests[i] = np.clip(new_nests[i], bounds[0], bounds[1])\n",
        "\n",
        "            # Evaluate new fitness\n",
        "            new_fitness = func(new_nests[i])\n",
        "\n",
        "            # If new solution is better, replace it\n",
        "            if new_fitness < fitness[i]:\n",
        "                nests[i] = new_nests[i]\n",
        "                fitness[i] = new_fitness\n",
        "\n",
        "        # Abandon some nests (based on the probability pa)\n",
        "        for i in range(n):\n",
        "            if random.random() < pa:\n",
        "                nests[i] = initialize_population(1, dim, bounds)[0]  # Reinitialize with new random solution\n",
        "                fitness[i] = func(nests[i])\n",
        "\n",
        "        # Update the best solution\n",
        "        best_idx = np.argmin(fitness)\n",
        "        best_nest = nests[best_idx]\n",
        "        best_fitness = fitness[best_idx]\n",
        "\n",
        "    return best_nest, best_fitness\n",
        "\n",
        "# Main execution\n",
        "if __name__ == \"__main__\":\n",
        "    best_solution, best_value = cuckoo_search(sphere, n=50, dim=10, max_iter=1000, bounds=(-5.12, 5.12), pa=0.25)\n",
        "    print(\"Best Solution: \", best_solution)\n",
        "    print(\"Best Fitness (Value of Sphere Function): \", best_value)\n"
      ]
    }
  ]
}